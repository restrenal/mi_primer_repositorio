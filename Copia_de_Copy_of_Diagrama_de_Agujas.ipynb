{
  "nbformat": 4,
  "nbformat_minor": 0,
  "metadata": {
    "kernelspec": {
      "display_name": "Python 3",
      "language": "python",
      "name": "python3"
    },
    "language_info": {
      "codemirror_mode": {
        "name": "ipython",
        "version": 3
      },
      "file_extension": ".py",
      "mimetype": "text/x-python",
      "name": "python",
      "nbconvert_exporter": "python",
      "pygments_lexer": "ipython3",
      "version": "3.7.4"
    },
    "colab": {
      "name": "Copia de Copy of Diagrama de Agujas.ipynb",
      "provenance": [],
      "include_colab_link": true
    }
  },
  "cells": [
    {
      "cell_type": "markdown",
      "metadata": {
        "id": "view-in-github",
        "colab_type": "text"
      },
      "source": [
        "<a href=\"https://colab.research.google.com/github/restrenal/mi_primer_repositorio/blob/main/Copia_de_Copy_of_Diagrama_de_Agujas.ipynb\" target=\"_parent\"><img src=\"https://colab.research.google.com/assets/colab-badge.svg\" alt=\"Open In Colab\"/></a>"
      ]
    },
    {
      "cell_type": "code",
      "metadata": {
        "colab": {
          "base_uri": "https://localhost:8080/"
        },
        "id": "t2MkI8P8vnbo",
        "outputId": "7545f951-c8a1-4274-852d-0af48c735b18"
      },
      "source": [
        "!pip install folium"
      ],
      "execution_count": null,
      "outputs": [
        {
          "output_type": "stream",
          "text": [
            "Requirement already satisfied: folium in /usr/local/lib/python3.7/dist-packages (0.8.3)\n",
            "Requirement already satisfied: numpy in /usr/local/lib/python3.7/dist-packages (from folium) (1.19.5)\n",
            "Requirement already satisfied: requests in /usr/local/lib/python3.7/dist-packages (from folium) (2.23.0)\n",
            "Requirement already satisfied: six in /usr/local/lib/python3.7/dist-packages (from folium) (1.15.0)\n",
            "Requirement already satisfied: branca>=0.3.0 in /usr/local/lib/python3.7/dist-packages (from folium) (0.4.2)\n",
            "Requirement already satisfied: jinja2 in /usr/local/lib/python3.7/dist-packages (from folium) (2.11.3)\n",
            "Requirement already satisfied: idna<3,>=2.5 in /usr/local/lib/python3.7/dist-packages (from requests->folium) (2.10)\n",
            "Requirement already satisfied: chardet<4,>=3.0.2 in /usr/local/lib/python3.7/dist-packages (from requests->folium) (3.0.4)\n",
            "Requirement already satisfied: certifi>=2017.4.17 in /usr/local/lib/python3.7/dist-packages (from requests->folium) (2020.12.5)\n",
            "Requirement already satisfied: urllib3!=1.25.0,!=1.25.1,<1.26,>=1.21.1 in /usr/local/lib/python3.7/dist-packages (from requests->folium) (1.24.3)\n",
            "Requirement already satisfied: MarkupSafe>=0.23 in /usr/local/lib/python3.7/dist-packages (from jinja2->folium) (2.0.1)\n"
          ],
          "name": "stdout"
        }
      ]
    },
    {
      "cell_type": "code",
      "metadata": {
        "id": "gteiDn2cvl-C"
      },
      "source": [
        "import folium\n",
        "import math\n",
        "from folium.features import DivIcon\n",
        "import numpy as np\n",
        "import os\n",
        "from folium.features import CustomIcon"
      ],
      "execution_count": null,
      "outputs": []
    },
    {
      "cell_type": "code",
      "metadata": {
        "id": "JIi9df7Jvl-E"
      },
      "source": [
        "# Coordenadas\n",
        "width, height = 480, 350\n",
        "m = folium.Map(width=width, height=height)\n",
        "#Stamen Terrain\n",
        "#OpenStreetMap\n",
        "#stamenterrain\n",
        "# crear o objeto de mapa\n",
        "originales=[4.1895,-74.89972222]\n",
        "m = folium.Map(location=originales, zoom_start=18,tiles=\"OpenStreetMap\",control_scale=True)"
      ],
      "execution_count": null,
      "outputs": []
    },
    {
      "cell_type": "code",
      "metadata": {
        "colab": {
          "base_uri": "https://localhost:8080/"
        },
        "id": "fxW5fProvl-G",
        "outputId": "58bb0eee-961a-49a2-abec-ddc60aebf700"
      },
      "source": [
        "# Nombre de la estación\n",
        "folium.map.Marker(\n",
        "    originales,\n",
        "    icon=DivIcon(\n",
        "        icon_size=(80,80),\n",
        "        icon_anchor=(3,3),\n",
        "       html='<div style=\"font-size: 16pt\">TOL.Valle de San Juan</div>'\n",
        "        )\n",
        "    ).add_to(m)\n"
      ],
      "execution_count": null,
      "outputs": [
        {
          "output_type": "execute_result",
          "data": {
            "text/plain": [
              "<folium.map.Marker at 0x7f3f25b234d0>"
            ]
          },
          "metadata": {
            "tags": []
          },
          "execution_count": 4
        }
      ]
    },
    {
      "cell_type": "code",
      "metadata": {
        "id": "1HQoRvFPvl-I"
      },
      "source": [
        "# Azimuth donde se encuentran ocupaciones\n",
        "length = .005\n",
        "anglea = np.array([0,10,20])\n",
        "angle=90-anglea"
      ],
      "execution_count": null,
      "outputs": []
    },
    {
      "cell_type": "code",
      "metadata": {
        "id": "jXOEyGZ5vl-I"
      },
      "source": [
        "end_lat=[]\n",
        "end_lon=[]\n",
        "for i in angle:\n",
        "    \n",
        "    end_lat.append(originales[0] + length * math.sin(math.radians(i)))\n",
        "    end_lon.append(originales[1] + length * math.cos(math.radians(i)))\n"
      ],
      "execution_count": null,
      "outputs": []
    },
    {
      "cell_type": "code",
      "metadata": {
        "id": "ZTaTNhH_vl-J"
      },
      "source": [
        "#Azimut_interes\n",
        "Azimut_interes=37\n",
        "\n",
        "interes_lat=originales[0] + length * math.sin(math.radians(90-Azimut_interes))\n",
        "interes_lot=originales[1] + length * math.cos(math.radians(90-Azimut_interes))\n",
        "    "
      ],
      "execution_count": null,
      "outputs": []
    },
    {
      "cell_type": "code",
      "metadata": {
        "colab": {
          "base_uri": "https://localhost:8080/"
        },
        "id": "uoa50Gm_vl-K",
        "outputId": "e9a07fa2-8004-4274-9102-288cef118428"
      },
      "source": [
        "folium.map.Marker(\n",
        "    [interes_lat, interes_lot],\n",
        "    icon=DivIcon(\n",
        "        icon_size=(10,10),\n",
        "        icon_anchor=(1,1),\n",
        "       html='<div style=\"font-size: 12pt\">%s°</div>'%(Azimut_interes)\n",
        "        )\n",
        "    ).add_to(m)\n"
      ],
      "execution_count": null,
      "outputs": [
        {
          "output_type": "execute_result",
          "data": {
            "text/plain": [
              "<folium.map.Marker at 0x7f3f25b35bd0>"
            ]
          },
          "metadata": {
            "tags": []
          },
          "execution_count": 12
        }
      ]
    },
    {
      "cell_type": "code",
      "metadata": {
        "scrolled": true,
        "id": "TSnvX-sNvl-M"
      },
      "source": [
        "w=10\n",
        "for i,a,e in zip(end_lat, end_lon,anglea):\n",
        "    folium.map.Marker(\n",
        "    [i, a],\n",
        "    icon=DivIcon(\n",
        "        icon_size=(100,38),\n",
        "        icon_anchor=(0,3),\n",
        "        html='<div style=\"font-size: 14pt\">%s°</div>'% (e),\n",
        "        )\n",
        "    ).add_to(m)\n",
        "    "
      ],
      "execution_count": null,
      "outputs": []
    },
    {
      "cell_type": "code",
      "metadata": {
        "colab": {
          "base_uri": "https://localhost:8080/"
        },
        "id": "nNwp9AqVvl-M",
        "outputId": "d73f0dc3-8e7a-4d2d-9c8b-7dbe30a82622"
      },
      "source": [
        "from folium.plugins import FloatImage\n",
        "\n",
        "url = ('https://raw.githubusercontent.com/SECOORA/static_assets/'\n",
        "       'master/maps/img/rose.png')\n",
        "\n",
        "#m = folium.Map([-13, -38.15], zoom_start=10)\n",
        "\n",
        "FloatImage(url, bottom=68, left=85).add_to(m)\n",
        "\n",
        "#m.save(os.path.join('results', 'FloatImage.html'))\n",
        "\n",
        "#m"
      ],
      "execution_count": null,
      "outputs": [
        {
          "output_type": "execute_result",
          "data": {
            "text/plain": [
              "<folium.plugins.float_image.FloatImage at 0x7f3f25b149d0>"
            ]
          },
          "metadata": {
            "tags": []
          },
          "execution_count": 14
        }
      ]
    },
    {
      "cell_type": "code",
      "metadata": {
        "scrolled": true,
        "colab": {
          "base_uri": "https://localhost:8080/",
          "height": 825
        },
        "id": "ylrN0o4dvl-N",
        "outputId": "0e8706a9-274d-40e1-c88e-4eb0f8654948"
      },
      "source": [
        "for i,a in zip(end_lat, end_lon):\n",
        "    folium.PolyLine([originales, [i, a]],color=\"red\", weight=2.5).add_to(m)\n",
        "folium.PolyLine([originales, [interes_lat, interes_lot]],color=\"black\", weight=2.5).add_to(m)    \n",
        "\n",
        "m\n",
        "#m.render()\n",
        "m.save('plot_data.html')\n",
        "# Import the Folium interactive html file\n",
        "\n",
        "\n",
        "\n",
        "from IPython.display import HTML\n",
        "HTML('<iframe src=plot_data.html width=1000 height=800></iframe>')\n"
      ],
      "execution_count": null,
      "outputs": [
        {
          "output_type": "execute_result",
          "data": {
            "text/html": [
              "<iframe src=plot_data.html width=1000 height=800></iframe>"
            ],
            "text/plain": [
              "<IPython.core.display.HTML object>"
            ]
          },
          "metadata": {
            "tags": []
          },
          "execution_count": 15
        }
      ]
    },
    {
      "cell_type": "code",
      "metadata": {
        "id": "z6JT2Btjvl-O"
      },
      "source": [
        ""
      ],
      "execution_count": null,
      "outputs": []
    }
  ]
}